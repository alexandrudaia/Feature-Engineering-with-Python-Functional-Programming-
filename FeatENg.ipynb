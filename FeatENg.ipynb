{
 "cells": [
  {
   "cell_type": "code",
   "execution_count": 24,
   "metadata": {
    "collapsed": true
   },
   "outputs": [],
   "source": [
    "import pandas as pd"
   ]
  },
  {
   "cell_type": "code",
   "execution_count": 25,
   "metadata": {
    "collapsed": true
   },
   "outputs": [],
   "source": [
    "import numpy as np "
   ]
  },
  {
   "cell_type": "code",
   "execution_count": 26,
   "metadata": {
    "collapsed": true
   },
   "outputs": [],
   "source": [
    "train=pd.read_csv('ny.csv')"
   ]
  },
  {
   "cell_type": "code",
   "execution_count": 27,
   "metadata": {
    "collapsed": false
   },
   "outputs": [
    {
     "data": {
      "text/html": [
       "<div>\n",
       "<style scoped>\n",
       "    .dataframe tbody tr th:only-of-type {\n",
       "        vertical-align: middle;\n",
       "    }\n",
       "\n",
       "    .dataframe tbody tr th {\n",
       "        vertical-align: top;\n",
       "    }\n",
       "\n",
       "    .dataframe thead th {\n",
       "        text-align: right;\n",
       "    }\n",
       "</style>\n",
       "<table border=\"1\" class=\"dataframe\">\n",
       "  <thead>\n",
       "    <tr style=\"text-align: right;\">\n",
       "      <th></th>\n",
       "      <th>url</th>\n",
       "      <th>pub_date</th>\n",
       "      <th>title</th>\n",
       "      <th>section</th>\n",
       "      <th>author</th>\n",
       "      <th>article</th>\n",
       "    </tr>\n",
       "  </thead>\n",
       "  <tbody>\n",
       "    <tr>\n",
       "      <th>0</th>\n",
       "      <td>https://www.nytimes.com/2011/05/30/business/ec...</td>\n",
       "      <td>2011-05-30T00:00:00Z</td>\n",
       "      <td>Some Faint Praise for Mr. Ballmer</td>\n",
       "      <td>Business Day</td>\n",
       "      <td>RICHARD BEALES and ROBERT CYRAN</td>\n",
       "      <td>Microsoft has missed too many opportunities un...</td>\n",
       "    </tr>\n",
       "    <tr>\n",
       "      <th>1</th>\n",
       "      <td>https://www.nytimes.com/2011/07/04/business/me...</td>\n",
       "      <td>2011-07-04T00:00:00Z</td>\n",
       "      <td>Speed Bumps on the Road to Virtual Cash</td>\n",
       "      <td>Business Day</td>\n",
       "      <td>NOAM COHEN</td>\n",
       "      <td>MONEY is accumulated, traded and transferred o...</td>\n",
       "    </tr>\n",
       "    <tr>\n",
       "      <th>2</th>\n",
       "      <td>https://krugman.blogs.nytimes.com/2011/09/07/g...</td>\n",
       "      <td>2011-09-07T00:20:26Z</td>\n",
       "      <td>Golden Cyberfetters</td>\n",
       "      <td>Opinion</td>\n",
       "      <td>PAUL KRUGMAN</td>\n",
       "      <td>Over the past few months a number of people ha...</td>\n",
       "    </tr>\n",
       "  </tbody>\n",
       "</table>\n",
       "</div>"
      ],
      "text/plain": [
       "                                                 url              pub_date  \\\n",
       "0  https://www.nytimes.com/2011/05/30/business/ec...  2011-05-30T00:00:00Z   \n",
       "1  https://www.nytimes.com/2011/07/04/business/me...  2011-07-04T00:00:00Z   \n",
       "2  https://krugman.blogs.nytimes.com/2011/09/07/g...  2011-09-07T00:20:26Z   \n",
       "\n",
       "                                     title       section  \\\n",
       "0        Some Faint Praise for Mr. Ballmer  Business Day   \n",
       "1  Speed Bumps on the Road to Virtual Cash  Business Day   \n",
       "2                      Golden Cyberfetters       Opinion   \n",
       "\n",
       "                            author  \\\n",
       "0  RICHARD BEALES and ROBERT CYRAN   \n",
       "1                       NOAM COHEN   \n",
       "2                     PAUL KRUGMAN   \n",
       "\n",
       "                                             article  \n",
       "0  Microsoft has missed too many opportunities un...  \n",
       "1  MONEY is accumulated, traded and transferred o...  \n",
       "2  Over the past few months a number of people ha...  "
      ]
     },
     "execution_count": 27,
     "metadata": {},
     "output_type": "execute_result"
    }
   ],
   "source": [
    "train.head(3)"
   ]
  },
  {
   "cell_type": "code",
   "execution_count": 28,
   "metadata": {
    "collapsed": false
   },
   "outputs": [
    {
     "data": {
      "text/plain": [
       "Index(['url', 'pub_date', 'title', 'section', 'author', 'article'], dtype='object')"
      ]
     },
     "execution_count": 28,
     "metadata": {},
     "output_type": "execute_result"
    }
   ],
   "source": [
    "train.columns"
   ]
  },
  {
   "cell_type": "code",
   "execution_count": 29,
   "metadata": {
    "collapsed": false
   },
   "outputs": [],
   "source": [
    "train=train[['article']]"
   ]
  },
  {
   "cell_type": "code",
   "execution_count": 30,
   "metadata": {
    "collapsed": false
   },
   "outputs": [
    {
     "data": {
      "text/html": [
       "<div>\n",
       "<style scoped>\n",
       "    .dataframe tbody tr th:only-of-type {\n",
       "        vertical-align: middle;\n",
       "    }\n",
       "\n",
       "    .dataframe tbody tr th {\n",
       "        vertical-align: top;\n",
       "    }\n",
       "\n",
       "    .dataframe thead th {\n",
       "        text-align: right;\n",
       "    }\n",
       "</style>\n",
       "<table border=\"1\" class=\"dataframe\">\n",
       "  <thead>\n",
       "    <tr style=\"text-align: right;\">\n",
       "      <th></th>\n",
       "      <th>article</th>\n",
       "    </tr>\n",
       "  </thead>\n",
       "  <tbody>\n",
       "    <tr>\n",
       "      <th>0</th>\n",
       "      <td>Microsoft has missed too many opportunities un...</td>\n",
       "    </tr>\n",
       "    <tr>\n",
       "      <th>1</th>\n",
       "      <td>MONEY is accumulated, traded and transferred o...</td>\n",
       "    </tr>\n",
       "    <tr>\n",
       "      <th>2</th>\n",
       "      <td>Over the past few months a number of people ha...</td>\n",
       "    </tr>\n",
       "  </tbody>\n",
       "</table>\n",
       "</div>"
      ],
      "text/plain": [
       "                                             article\n",
       "0  Microsoft has missed too many opportunities un...\n",
       "1  MONEY is accumulated, traded and transferred o...\n",
       "2  Over the past few months a number of people ha..."
      ]
     },
     "execution_count": 30,
     "metadata": {},
     "output_type": "execute_result"
    }
   ],
   "source": [
    "train.head(3)"
   ]
  },
  {
   "cell_type": "code",
   "execution_count": 31,
   "metadata": {
    "collapsed": false
   },
   "outputs": [],
   "source": [
    "# Number of words in the text ##\n",
    "train[\"num_words\"] = train[\"article\"].apply(lambda x: len(str(x).split()))"
   ]
  },
  {
   "cell_type": "code",
   "execution_count": 32,
   "metadata": {
    "collapsed": false
   },
   "outputs": [
    {
     "name": "stderr",
     "output_type": "stream",
     "text": [
      "/home/thebastard/.local/lib/python3.6/site-packages/numpy/core/fromnumeric.py:3118: RuntimeWarning: Mean of empty slice.\n",
      "  out=out, **kwargs)\n"
     ]
    }
   ],
   "source": [
    "##average og lenght  of  words\n",
    "train[\"mean_word_len\"] = train[\"article\"].apply(lambda x: np.mean([len(w) for w in str(x).split()]))"
   ]
  },
  {
   "cell_type": "code",
   "execution_count": 33,
   "metadata": {
    "collapsed": false
   },
   "outputs": [],
   "source": [
    "train[\"num_unique_words\"] = train[\"article\"].apply(lambda x: len(set(str(x).split())))"
   ]
  },
  {
   "cell_type": "code",
   "execution_count": 34,
   "metadata": {
    "collapsed": true
   },
   "outputs": [],
   "source": [
    "## Number of characters in the text ##\n",
    "train[\"num_chars\"] = train[\"article\"].apply(lambda x: len(str(x)))"
   ]
  },
  {
   "cell_type": "code",
   "execution_count": 35,
   "metadata": {
    "collapsed": false
   },
   "outputs": [],
   "source": [
    "from nltk.corpus import stopwords\n",
    "eng_stopwords = set(stopwords.words(\"english\"))\n",
    "## Number of stopwords in the text ##\n",
    "train[\"num_stopwords\"] = train[\"article\"].apply(lambda x: len([w for w in str(x).lower().split() if w in eng_stopwords]))"
   ]
  },
  {
   "cell_type": "code",
   "execution_count": 36,
   "metadata": {
    "collapsed": false
   },
   "outputs": [],
   "source": [
    "import string\n",
    "## Number of punctuations in the text ##\n",
    "train[\"num_punctuations\"] =train['article'].apply(lambda x: len([c for c in str(x) if c in string.punctuation]) )"
   ]
  },
  {
   "cell_type": "code",
   "execution_count": 37,
   "metadata": {
    "collapsed": true
   },
   "outputs": [],
   "source": [
    "## Number of title case words in the text ##\n",
    "train[\"num_words_upper\"] = train[\"article\"].apply(lambda x: len([w for w in str(x).split() if w.isupper()]))"
   ]
  },
  {
   "cell_type": "code",
   "execution_count": null,
   "metadata": {
    "collapsed": false
   },
   "outputs": [],
   "source": [
    " "
   ]
  },
  {
   "cell_type": "code",
   "execution_count": 38,
   "metadata": {
    "collapsed": false
   },
   "outputs": [
    {
     "name": "stderr",
     "output_type": "stream",
     "text": [
      "/home/thebastard/.local/lib/python3.6/site-packages/numpy/core/fromnumeric.py:3118: RuntimeWarning: Mean of empty slice.\n",
      "  out=out, **kwargs)\n"
     ]
    }
   ],
   "source": [
    "## Average length of the words in the text ##\n",
    "train[\"mean_word_len\"] = train[\"article\"].apply(lambda x: np.mean([len(w) for w in str(x).split()]))"
   ]
  },
  {
   "cell_type": "code",
   "execution_count": 39,
   "metadata": {
    "collapsed": false
   },
   "outputs": [],
   "source": [
    " import csv"
   ]
  },
  {
   "cell_type": "code",
   "execution_count": 40,
   "metadata": {
    "collapsed": false
   },
   "outputs": [
    {
     "name": "stdout",
     "output_type": "stream",
     "text": [
      "The phone is super cool.---------------- {'neg': 0.0, 'neu': 0.326, 'pos': 0.674, 'compound': 0.7351}\n"
     ]
    }
   ],
   "source": [
    "from vaderSentiment.vaderSentiment import SentimentIntensityAnalyzer\n",
    "\n",
    "def sentiment_analyzer_scores(sentence):\n",
    "    score = analyser.polarity_scores(sentence)\n",
    "    print(\"{:-<40} {}\".format(sentence, str(score)))\n",
    "\n",
    "analyser = SentimentIntensityAnalyzer()\n",
    "\n",
    "sentiment_analyzer_scores(\"The phone is super cool.\")"
   ]
  },
  {
   "cell_type": "code",
   "execution_count": 41,
   "metadata": {
    "collapsed": false
   },
   "outputs": [
    {
     "data": {
      "text/plain": [
       "(1378, 8)"
      ]
     },
     "execution_count": 41,
     "metadata": {},
     "output_type": "execute_result"
    }
   ],
   "source": [
    "train.shape"
   ]
  },
  {
   "cell_type": "code",
   "execution_count": 42,
   "metadata": {
    "collapsed": true
   },
   "outputs": [],
   "source": [
    "temp=train"
   ]
  },
  {
   "cell_type": "code",
   "execution_count": 43,
   "metadata": {
    "collapsed": true
   },
   "outputs": [],
   "source": [
    "train=train.dropna()"
   ]
  },
  {
   "cell_type": "code",
   "execution_count": 44,
   "metadata": {
    "collapsed": false
   },
   "outputs": [
    {
     "data": {
      "text/plain": [
       "(1334, 8)"
      ]
     },
     "execution_count": 44,
     "metadata": {},
     "output_type": "execute_result"
    }
   ],
   "source": [
    "train.shape"
   ]
  },
  {
   "cell_type": "code",
   "execution_count": 47,
   "metadata": {
    "collapsed": false
   },
   "outputs": [
    {
     "name": "stdout",
     "output_type": "stream",
     "text": [
      "Microsoft has missed too many opportunities under Steve Ballmer’s stewardship. It’s a fair criticism reignited last week by the hedge fund boss, David Einhorn, who called for the software giant’s chief executive to step down. But that doesn’t necessarily mean Mr. Ballmer will go. Based on total return to shareholders, other long-time company bosses, including Jeff Immelt at General Electric, have fared worse.\n",
      "\n",
      "Mr. Ballmer started as chief executive in January 2000. Over the last decade, Microsoft’s shares have tumbled 30 percent, and they’re up only a hair from their low in 2006. The potted narrative is that Mr. Ballmer has shepherded the “old” operating system and productivity software powerhouse reasonably well but misjudged new developments, wasting billions of dollars chasing Silicon Valley innovators like Apple and Google.\n",
      "\n",
      "It would be a lot to expect a single company to dominate more than one truly world-changing technology. But with that caveat, the critique of Mr. Ballmer is on target even if he’s far from the only chief executive who has struggled to make the most of a franchise. And he at least saw the need to pay dividends a few years earlier than, say, John Chambers at Cisco Systems.\n",
      "\n",
      "On a total return basis including those payouts, Microsoft shareholders are down just over 10 percent over 10 years, and better off by some 14 percent over five, according to Thomson Reuters Datastream. That’s far from gratifying, but easily beats Cisco. Looking further across corporate America, Mr. Ballmer stomps Mr. Immelt’s decade-long reign at G.E. and outdoes Rupert Murdoch’s latest five-year stretch at the News Corporation. Richard Fairbank at Capital One Financial and Steven Burd at the grocery chain Safeway, two other corner-office fixtures, also have fallen short of Mr. Ballmer’s performance.\n",
      "\n",
      "Advertisement\n",
      "\n",
      "This report card, of course, damns Mr. Ballmer with faint praise. His problem isn’t so much shrinking profits as a loss of investor faith in Microsoft, whose price-to-earnings ratio is one of the lowest among big companies in the United States. But Mr. Einhorn probably won’t quickly get his wish for a replacement. Mr. Ballmer and Microsoft’s chairman, Bill Gates, go way back and together own more than 10 percent of the company. That means the current chief executive probably will get more time to try to reinvent Microsoft.\n",
      "\n",
      "Virtual Inflation\n",
      "\n",
      "In the currency wars, the nerds are winning. The value of a Bitcoin, a digital currency trading over peer-to-peer networks, has rocketed more than ninefold in two months to more than $8.60 as of Friday afternoon. The preordained supply and decentralization of Bitcoins have intrigued geeks and paranoid inflationistas alike. But this abstract gold may not survive what looks like a bubble.\n",
      "\n",
      "Advertisement\n",
      "\n",
      "Bitcoins are actually strings of unique digits, tracked and traded via an online network. People earn new coins by solving network security problems. These coins can then be traded for real currencies on exchanges, or for goods from certain businesses that accept them.\n",
      "\n",
      "\n",
      "\n",
      "Please verify you're not a robot by clicking the box.\n",
      "\n",
      "Invalid email address. Please re-enter.\n",
      "\n",
      "You must select a newsletter to subscribe to.\n",
      "\n",
      "View all New York Times newsletters.\n",
      "\n",
      "The Bitcoins in a user’s virtual wallet are tracked by the secure system and can be transferred only by that user. Moreover — and here’s the hook for the inflation worriers — the currency can’t be printed willy-nilly. The supply of Bitcoins is on a predefined path and will be capped at 21 million. And because there’s no central point in the system, there’s no equivalent of the Federal Reserve to rewrite that policy.\n",
      "\n",
      "The concept of the Bitcoin is no less real than regular paper money or coins. All such currencies have only the value their users accept. Bitcoins do, though, have a couple of disadvantages: they don’t generate income, and since they exist in the digital cloud they’d be less use than paper money in any scenario involving power cuts or lost connectivity.\n",
      "\n",
      "Still, it’s easy, quick and essentially free to transfer Bitcoins. Moreover, transactions are anonymous and the system knows no national borders. That’s helpful for some legitimate users, but also makes the currency a potential worry for law enforcers.\n",
      "\n",
      "The finite supply means the value of Bitcoins should rise as demand increases. But the latest run-up looks decidedly frothy. A flush user can buy Web design help or alpaca socks. But there aren’t many businesses that accept Bitcoins. So it seems likely that enthusiasts and speculators are hoarding them without regard to the value they really represent. A bubble that bursts when the abstract intellectual appeal fades would probably doom the otherwise creative idea.\n",
      "\n",
      "RICHARD BEALES and ROBERT CYRAN\n",
      "\n",
      "For more independent financial commentary and analysis, visit www.breakingviews.com.\n",
      "\n",
      "A version of this article appears in print on May 30, 2011, on Page B2 of the New York edition with the headline: Some Faint Praise for Mr. Ballmer.   Order Reprints|  Today's Paper|Subscribe\n",
      "\n",
      "\n",
      "\n",
      "We’re interested in your feedback on this page. Tell us what you think. {'neg': 0.088, 'neu': 0.774, 'pos': 0.138, 'compound': 0.9949}\n",
      "None\n"
     ]
    }
   ],
   "source": [
    "for replie in  train['article'][0:1]:\n",
    "    print(sentiment_analyzer_scores(replie))\n",
    " "
   ]
  },
  {
   "cell_type": "code",
   "execution_count": 52,
   "metadata": {
    "collapsed": true
   },
   "outputs": [],
   "source": [
    "train=train.reset_index()"
   ]
  },
  {
   "cell_type": "code",
   "execution_count": 54,
   "metadata": {
    "collapsed": false
   },
   "outputs": [],
   "source": [
    "train=train.drop('index',axis=1)"
   ]
  },
  {
   "cell_type": "raw",
   "metadata": {
    "collapsed": false
   },
   "source": [
    "                         # to discusss  with  client  as soon as possible #\n",
    "idx=out.index('compound')\n",
    "comp=out[idx:]\n",
    "int(''.join(filter(str.isdigit, comp)))\n",
    "start=comp.index(' ')\n",
    "end=comp.index('}')\n",
    "sent=comp[start+1:end]\n",
    "sent=float(sent)\n",
    "compound_=[]\n",
    "\n",
    "\n",
    "idx=out.index('pos')\n",
    "pos=out[idx:]\n",
    "start=pos.index(': ')\n",
    "end=pos.index(',')\n",
    "sent1=pos[start+2:end]\n",
    "\n",
    "good_sent=[]\n",
    "for replie in train['article'][0:2]:\n",
    "    f = io.StringIO()\n",
    "    with redirect_stdout(f):\n",
    "         sentiment_analyzer_scores(replie)\n",
    "    out = f.getvalue()\n",
    "    idx=out.index('pos')\n",
    "    pos=out[idx:]\n",
    "    start=pos.index(': ')\n",
    "    end=pos.index(',')\n",
    "    sentNew=pos[start+2:end]\n",
    "    good_sent.append(float(sentNew))\n",
    "    \n",
    " \n",
    "\n",
    "train['SentNew']=np.array(good_sent)\n",
    "\n",
    "\n",
    "\n",
    "for replie in   train['article'][0:2]:\n",
    "    f = io.StringIO()\n",
    "    with redirect_stdout(f):\n",
    "         sentiment_analyzer_scores(replie)\n",
    "    out = f.getvalue()\n",
    "    idx=out.index('compound')\n",
    "    comp=out[idx:]\n",
    "    int(''.join(filter(str.isdigit, comp)))\n",
    "    start=comp.index(' ')\n",
    "    end=comp.index('}')\n",
    "    sent=comp[start+1:end]\n",
    "    sent=float(sent)\n",
    "    compound_.append(sent)\n",
    "    \n",
    "tran['compound']=np.array(compound_)\n",
    "\n",
    "real_sentiment=[]\n",
    "\n",
    "for  com_  in  comm['compound']:\n",
    "     if com_>=0.05:\n",
    "        real_sentiment.append('positive')\n",
    "     if com_<=-0.05:\n",
    "        real_sentiment.append('negative')\n",
    "     if com_>-0.05 and com_<0.05:\n",
    "        real_sentiment.append('neutral')\n",
    "        \n",
    "train['sentiment']=np.array(real_sentiment)"
   ]
  },
  {
   "cell_type": "code",
   "execution_count": 55,
   "metadata": {
    "collapsed": false
   },
   "outputs": [
    {
     "data": {
      "text/plain": [
       "Index(['article', 'num_words', 'mean_word_len', 'num_unique_words',\n",
       "       'num_chars', 'num_stopwords', 'num_punctuations', 'num_words_upper'],\n",
       "      dtype='object')"
      ]
     },
     "execution_count": 55,
     "metadata": {},
     "output_type": "execute_result"
    }
   ],
   "source": [
    " train.columns"
   ]
  },
  {
   "cell_type": "code",
   "execution_count": 64,
   "metadata": {
    "collapsed": false
   },
   "outputs": [],
   "source": [
    "entropy_words=[]\n",
    "total_words=[]\n",
    "unique_words=[]\n",
    "total_voals=[]\n",
    "unique_voals=[]\n",
    "entropy_voals=[]\n",
    "total_cons=[]\n",
    "unique_cons=[]\n",
    "entropy_cons=[]\n",
    "\n",
    "for  row in range(train.shape[0]):\n",
    "  \n",
    "    #for  words\n",
    "    sentence=train['article'][row]\n",
    "    words=[w for  w in  sentence.split(\" \")]\n",
    "     \n",
    "    prob=np.unique(words,return_counts=True)[1]/len(words)\n",
    "    entropy=np.sum(prob**2)\n",
    "    entropy_words.append(entropy)\n",
    "    total_words.append(len(words))\n",
    "    unique_words.append(len(set(words)))\n",
    "    # vowels\n",
    "    voals=[v   for  v in  sentence  if    v in  'aeiou']\n",
    "    tot_voals=len(voals)\n",
    "    uniq_voals=len(set(voals))\n",
    "    prob=np.unique(voals,return_counts=True)[1]/len(voals)\n",
    "    entropy=np.sum(prob**2)\n",
    "    total_voals.append(tot_voals)\n",
    "    unique_voals.append(uniq_voals)\n",
    "    entropy_voals.append(entropy)\n",
    "    #consoans\n",
    "    cons=[v   for  v in  sentence  if    v not  in  'aeiou']\n",
    "    tot_cons=len(cons)\n",
    "    uniq_cons=len(set(cons))\n",
    "    prob=np.unique(cons,return_counts=True)[1]/len(cons)\n",
    "    entropy=np.sum(prob**2)\n",
    "    total_cons.append(tot_cons)\n",
    "    unique_cons.append(uniq_cons)\n",
    "    entropy_cons.append(entropy)\n",
    "    \n",
    "    \n",
    "    \n",
    "    \n",
    "    \n",
    "train['entropy_words']    =np.log(np.array(entropy_words)+0.01)\n",
    "train['total_words']   =np.array(total_words)\n",
    "train['unique_word']   =np.array(unique_words)\n",
    "train['total_voals']   =np.array(total_voals)\n",
    "train['unique_voals']   =np.array(unique_voals)\n",
    "train['entropy_voals']   =np.log(np.array(entropy_voals)+0.01)\n",
    "train['total_cons']   =np.array(total_cons)\n",
    "train['unique_cons']  =np.array(unique_cons)\n",
    "train['entropy_cons']  =np.log(np.array(entropy_cons)+0.01)\n",
    "    \n",
    "    \n",
    "    "
   ]
  },
  {
   "cell_type": "code",
   "execution_count": 65,
   "metadata": {
    "collapsed": false
   },
   "outputs": [
    {
     "data": {
      "text/html": [
       "<div>\n",
       "<style scoped>\n",
       "    .dataframe tbody tr th:only-of-type {\n",
       "        vertical-align: middle;\n",
       "    }\n",
       "\n",
       "    .dataframe tbody tr th {\n",
       "        vertical-align: top;\n",
       "    }\n",
       "\n",
       "    .dataframe thead th {\n",
       "        text-align: right;\n",
       "    }\n",
       "</style>\n",
       "<table border=\"1\" class=\"dataframe\">\n",
       "  <thead>\n",
       "    <tr style=\"text-align: right;\">\n",
       "      <th></th>\n",
       "      <th>article</th>\n",
       "      <th>num_words</th>\n",
       "      <th>mean_word_len</th>\n",
       "      <th>num_unique_words</th>\n",
       "      <th>num_chars</th>\n",
       "      <th>num_stopwords</th>\n",
       "      <th>num_punctuations</th>\n",
       "      <th>num_words_upper</th>\n",
       "      <th>entropy_words</th>\n",
       "      <th>total_words</th>\n",
       "      <th>unique_word</th>\n",
       "      <th>total_voals</th>\n",
       "      <th>unique_voals</th>\n",
       "      <th>entropy_voals</th>\n",
       "      <th>total_cons</th>\n",
       "      <th>unique_cons</th>\n",
       "      <th>entropy_cons</th>\n",
       "    </tr>\n",
       "  </thead>\n",
       "  <tbody>\n",
       "    <tr>\n",
       "      <th>0</th>\n",
       "      <td>Microsoft has missed too many opportunities un...</td>\n",
       "      <td>825</td>\n",
       "      <td>5.193939</td>\n",
       "      <td>515</td>\n",
       "      <td>5137</td>\n",
       "      <td>308</td>\n",
       "      <td>125</td>\n",
       "      <td>9</td>\n",
       "      <td>-4.104220</td>\n",
       "      <td>807</td>\n",
       "      <td>503</td>\n",
       "      <td>1484</td>\n",
       "      <td>5</td>\n",
       "      <td>-1.403189</td>\n",
       "      <td>3653</td>\n",
       "      <td>63</td>\n",
       "      <td>-2.326632</td>\n",
       "    </tr>\n",
       "    <tr>\n",
       "      <th>1</th>\n",
       "      <td>MONEY is accumulated, traded and transferred o...</td>\n",
       "      <td>1443</td>\n",
       "      <td>4.779626</td>\n",
       "      <td>691</td>\n",
       "      <td>8385</td>\n",
       "      <td>650</td>\n",
       "      <td>206</td>\n",
       "      <td>14</td>\n",
       "      <td>-3.942318</td>\n",
       "      <td>1407</td>\n",
       "      <td>679</td>\n",
       "      <td>2472</td>\n",
       "      <td>5</td>\n",
       "      <td>-1.443188</td>\n",
       "      <td>5913</td>\n",
       "      <td>73</td>\n",
       "      <td>-2.246123</td>\n",
       "    </tr>\n",
       "    <tr>\n",
       "      <th>2</th>\n",
       "      <td>Over the past few months a number of people ha...</td>\n",
       "      <td>376</td>\n",
       "      <td>4.901596</td>\n",
       "      <td>222</td>\n",
       "      <td>2224</td>\n",
       "      <td>173</td>\n",
       "      <td>48</td>\n",
       "      <td>1</td>\n",
       "      <td>-3.905833</td>\n",
       "      <td>370</td>\n",
       "      <td>220</td>\n",
       "      <td>659</td>\n",
       "      <td>5</td>\n",
       "      <td>-1.410462</td>\n",
       "      <td>1565</td>\n",
       "      <td>46</td>\n",
       "      <td>-2.222789</td>\n",
       "    </tr>\n",
       "  </tbody>\n",
       "</table>\n",
       "</div>"
      ],
      "text/plain": [
       "                                             article  num_words  \\\n",
       "0  Microsoft has missed too many opportunities un...        825   \n",
       "1  MONEY is accumulated, traded and transferred o...       1443   \n",
       "2  Over the past few months a number of people ha...        376   \n",
       "\n",
       "   mean_word_len  num_unique_words  num_chars  num_stopwords  \\\n",
       "0       5.193939               515       5137            308   \n",
       "1       4.779626               691       8385            650   \n",
       "2       4.901596               222       2224            173   \n",
       "\n",
       "   num_punctuations  num_words_upper  entropy_words  total_words  unique_word  \\\n",
       "0               125                9      -4.104220          807          503   \n",
       "1               206               14      -3.942318         1407          679   \n",
       "2                48                1      -3.905833          370          220   \n",
       "\n",
       "   total_voals  unique_voals  entropy_voals  total_cons  unique_cons  \\\n",
       "0         1484             5      -1.403189        3653           63   \n",
       "1         2472             5      -1.443188        5913           73   \n",
       "2          659             5      -1.410462        1565           46   \n",
       "\n",
       "   entropy_cons  \n",
       "0     -2.326632  \n",
       "1     -2.246123  \n",
       "2     -2.222789  "
      ]
     },
     "execution_count": 65,
     "metadata": {},
     "output_type": "execute_result"
    }
   ],
   "source": [
    "train.head(3)"
   ]
  },
  {
   "cell_type": "code",
   "execution_count": 67,
   "metadata": {
    "collapsed": false
   },
   "outputs": [
    {
     "data": {
      "text/plain": [
       "(1334, 17)"
      ]
     },
     "execution_count": 67,
     "metadata": {},
     "output_type": "execute_result"
    }
   ],
   "source": [
    " train.shape"
   ]
  },
  {
   "cell_type": "code",
   "execution_count": 68,
   "metadata": {
    "collapsed": true
   },
   "outputs": [],
   "source": [
    "date=pd.read_csv('ny.csv')"
   ]
  },
  {
   "cell_type": "code",
   "execution_count": 70,
   "metadata": {
    "collapsed": false
   },
   "outputs": [],
   "source": [
    "date=date[['pub_date']]"
   ]
  },
  {
   "cell_type": "code",
   "execution_count": 72,
   "metadata": {
    "collapsed": false
   },
   "outputs": [],
   "source": [
    "import matplotlib \n",
    "from matplotlib import pyplot as plt"
   ]
  },
  {
   "cell_type": "code",
   "execution_count": 77,
   "metadata": {
    "collapsed": false
   },
   "outputs": [],
   "source": [
    "date=pd.to_datetime(date['pub_date'])"
   ]
  },
  {
   "cell_type": "code",
   "execution_count": 83,
   "metadata": {
    "collapsed": false
   },
   "outputs": [
    {
     "data": {
      "text/plain": [
       "0   2011-05-30 00:00:00+00:00\n",
       "1   2011-07-04 00:00:00+00:00\n",
       "2   2011-09-07 00:20:26+00:00\n",
       "Name: pub_date, dtype: datetime64[ns, UTC]"
      ]
     },
     "execution_count": 83,
     "metadata": {},
     "output_type": "execute_result"
    }
   ],
   "source": [
    "date.head(3)"
   ]
  },
  {
   "cell_type": "code",
   "execution_count": 84,
   "metadata": {
    "collapsed": true
   },
   "outputs": [],
   "source": [
    "features=train[[ feat for   feat in train.columns if   feat != 'article']]"
   ]
  },
  {
   "cell_type": "code",
   "execution_count": 89,
   "metadata": {
    "collapsed": false
   },
   "outputs": [
    {
     "data": {
      "image/png": "[encoded data removed]",
      "text/plain": [
       "<Figure size 432x288 with 1 Axes>"
      ]
     },
     "metadata": {},
     "output_type": "display_data"
    },
    {
     "data": {
      "image/png": "[encoded data removed]",
      "text/plain": [
       "<Figure size 432x288 with 1 Axes>"
      ]
     },
     "metadata": {},
     "output_type": "display_data"
    },
    {
     "data": {
      "image/png": "[encoded data removed]",
      "text/plain": [
       "<Figure size 432x288 with 1 Axes>"
      ]
     },
     "metadata": {},
     "output_type": "display_data"
    },
    {
     "data": {
      "image/png": "[encoded data removed]",
      "text/plain": [
       "<Figure size 432x288 with 1 Axes>"
      ]
     },
     "metadata": {},
     "output_type": "display_data"
    },
    {
     "data": {
      "image/png": "[encoded data removed]",
      "text/plain": [
       "<Figure size 432x288 with 1 Axes>"
      ]
     },
     "metadata": {},
     "output_type": "display_data"
    },
    {
     "data": {
      "image/png": "[encoded data removed]",
      "text/plain": [
       "<Figure size 432x288 with 1 Axes>"
      ]
     },
     "metadata": {},
     "output_type": "display_data"
    },
    {
     "data": {
      "image/png": "[encoded data removed]",
      "text/plain": [
       "<Figure size 432x288 with 1 Axes>"
      ]
     },
     "metadata": {},
     "output_type": "display_data"
    },
    {
     "data": {
      "image/png": "[encoded data removed]",
      "text/plain": [
       "<Figure size 432x288 with 1 Axes>"
      ]
     },
     "metadata": {},
     "output_type": "display_data"
    },
    {
     "data": {
      "image/png": "[encoded data removed]",
      "text/plain": [
       "<Figure size 432x288 with 1 Axes>"
      ]
     },
     "metadata": {},
     "output_type": "display_data"
    },
    {
     "data": {
      "image/png": "[encoded data removed]",
      "text/plain": [
       "<Figure size 432x288 with 1 Axes>"
      ]
     },
     "metadata": {},
     "output_type": "display_data"
    },
    {
     "data": {
      "image/png": "[encoded data removed]",
      "text/plain": [
       "<Figure size 432x288 with 1 Axes>"
      ]
     },
     "metadata": {},
     "output_type": "display_data"
    },
    {
     "data": {
      "image/png": "[encoded data removed]",
      "text/plain": [
       "<Figure size 432x288 with 1 Axes>"
      ]
     },
     "metadata": {},
     "output_type": "display_data"
    },
    {
     "data": {
      "image/png": "[encoded data removed]",
      "text/plain": [
       "<Figure size 432x288 with 1 Axes>"
      ]
     },
     "metadata": {},
     "output_type": "display_data"
    },
    {
     "data": {
      "image/png": "[encoded data removed]",
      "text/plain": [
       "<Figure size 432x288 with 1 Axes>"
      ]
     },
     "metadata": {},
     "output_type": "display_data"
    },
    {
     "data": {
      "image/png": "[encoded data removed]",
      "text/plain": [
       "<Figure size 432x288 with 1 Axes>"
      ]
     },
     "metadata": {},
     "output_type": "display_data"
    },
    {
     "data": {
      "image/png": "[encoded data removed]",
      "text/plain": [
       "<Figure size 432x288 with 1 Axes>"
      ]
     },
     "metadata": {},
     "output_type": "display_data"
    }
   ],
   "source": [
    "for feat in features.columns :\n",
    "    plt.hist(features[feat])\n",
    "    plt.show()"
   ]
  },
  {
   "cell_type": "markdown",
   "metadata": {},
   "source": [
    "#  Conclusion :  when   feeding in model some features  must   be  transformed   by  log or  box-cox  transformation to make   them more gaussian looking"
   ]
  },
  {
   "cell_type": "code",
   "execution_count": 94,
   "metadata": {
    "collapsed": false
   },
   "outputs": [],
   "source": [
    "train.to_csv('/home/thebastard/Downloads/trainNY.csv',index=False)"
   ]
  },
  {
   "cell_type": "code",
   "execution_count": null,
   "metadata": {
    "collapsed": true
   },
   "outputs": [],
   "source": []
  }
 ],
 "metadata": {
  "kernelspec": {
   "display_name": "Python 3",
   "language": "python",
   "name": "python3"
  },
  "language_info": {
   "codemirror_mode": {
    "name": "ipython",
    "version": 3
   },
   "file_extension": ".py",
   "mimetype": "text/x-python",
   "name": "python",
   "nbconvert_exporter": "python",
   "pygments_lexer": "ipython3",
   "version": "3.6.3"
  }
 },
 "nbformat": 4,
 "nbformat_minor": 2
}
